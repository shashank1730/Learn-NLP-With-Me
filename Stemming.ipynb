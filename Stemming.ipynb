{
 "cells": [
  {
   "cell_type": "markdown",
   "id": "c09ca975",
   "metadata": {},
   "source": [
    "Stemming"
   ]
  },
  {
   "cell_type": "code",
   "execution_count": 2,
   "id": "871ebf52",
   "metadata": {},
   "outputs": [],
   "source": [
    "words = [\"eating\",\"eats\",\"eaten\",\"writing\",\"writes\",\"programming\",\"program\",\"history\",\"finally\",\"finalized\"] "
   ]
  },
  {
   "cell_type": "code",
   "execution_count": 4,
   "id": "ecb428a9",
   "metadata": {},
   "outputs": [],
   "source": [
    "#PORTER STEMMING\n",
    "from nltk.stem import PorterStemmer"
   ]
  },
  {
   "cell_type": "code",
   "execution_count": 5,
   "id": "1eab061f",
   "metadata": {},
   "outputs": [],
   "source": [
    "stemming = PorterStemmer()"
   ]
  },
  {
   "cell_type": "code",
   "execution_count": 6,
   "id": "6412f1cd",
   "metadata": {},
   "outputs": [
    {
     "name": "stdout",
     "output_type": "stream",
     "text": [
      "eating---->eat\n",
      "eats---->eat\n",
      "eaten---->eaten\n",
      "writing---->write\n",
      "writes---->write\n",
      "programming---->program\n",
      "program---->program\n",
      "history---->histori\n",
      "finally---->final\n",
      "finalized---->final\n"
     ]
    }
   ],
   "source": [
    "for word in words:\n",
    "    print(word+\"---->\"+stemming.stem(word))"
   ]
  },
  {
   "cell_type": "code",
   "execution_count": 7,
   "id": "be4b1f11",
   "metadata": {},
   "outputs": [
    {
     "data": {
      "text/plain": [
       "'congratul'"
      ]
     },
     "execution_count": 7,
     "metadata": {},
     "output_type": "execute_result"
    }
   ],
   "source": [
    "stemming.stem(\"congratulations\")"
   ]
  },
  {
   "cell_type": "code",
   "execution_count": null,
   "id": "8b338198",
   "metadata": {},
   "outputs": [],
   "source": [
    "# The major disadvantage of stemming is,\n",
    "# it most of the times it stems the word to root in such a way that the word doesnot make sense"
   ]
  },
  {
   "cell_type": "code",
   "execution_count": 9,
   "id": "56fde9ac",
   "metadata": {},
   "outputs": [],
   "source": [
    "#RegexpSTemmer Class\n",
    "#Using this we can easily implement regular expression stemmer algorithms.\n",
    "#It basically takes a single regualr expression and removes any prefix and suffix that matches the expression\n"
   ]
  },
  {
   "cell_type": "code",
   "execution_count": 10,
   "id": "c82c8938",
   "metadata": {},
   "outputs": [],
   "source": [
    "from nltk.stem import RegexpStemmer"
   ]
  },
  {
   "cell_type": "code",
   "execution_count": 12,
   "id": "8043fe75",
   "metadata": {},
   "outputs": [],
   "source": [
    "reg_stemmer = RegexpStemmer('ing$|s$|e$|able$', min=4)"
   ]
  },
  {
   "cell_type": "code",
   "execution_count": 13,
   "id": "7977bdbe",
   "metadata": {},
   "outputs": [
    {
     "data": {
      "text/plain": [
       "'eat'"
      ]
     },
     "execution_count": 13,
     "metadata": {},
     "output_type": "execute_result"
    }
   ],
   "source": [
    "reg_stemmer.stem('eating')"
   ]
  },
  {
   "cell_type": "code",
   "execution_count": 14,
   "id": "376d74df",
   "metadata": {},
   "outputs": [
    {
     "name": "stdout",
     "output_type": "stream",
     "text": [
      "eating---->eat\n",
      "eats---->eat\n",
      "eaten---->eaten\n",
      "writing---->writ\n",
      "writes---->write\n",
      "programming---->programm\n",
      "program---->program\n",
      "history---->history\n",
      "finally---->finally\n",
      "finalized---->finalized\n"
     ]
    }
   ],
   "source": [
    "for word in words:\n",
    "    print(word+\"---->\"+reg_stemmer.stem(word))"
   ]
  },
  {
   "cell_type": "code",
   "execution_count": 15,
   "id": "10a9169e",
   "metadata": {},
   "outputs": [],
   "source": [
    "##SNOWBALL STEMMER"
   ]
  },
  {
   "cell_type": "code",
   "execution_count": 16,
   "id": "c615461a",
   "metadata": {},
   "outputs": [],
   "source": [
    "from nltk.stem import SnowballStemmer"
   ]
  },
  {
   "cell_type": "code",
   "execution_count": 17,
   "id": "fce1430c",
   "metadata": {},
   "outputs": [],
   "source": [
    "snowball = SnowballStemmer('english')"
   ]
  },
  {
   "cell_type": "code",
   "execution_count": 20,
   "id": "d460da32",
   "metadata": {},
   "outputs": [
    {
     "name": "stdout",
     "output_type": "stream",
     "text": [
      "eating--->eat\n",
      "eats--->eat\n",
      "eaten--->eaten\n",
      "writing--->write\n",
      "writes--->write\n",
      "programming--->program\n",
      "program--->program\n",
      "history--->histori\n",
      "finally--->final\n",
      "finalized--->final\n"
     ]
    }
   ],
   "source": [
    "for word in words:\n",
    "    print(word+\"--->\"+snowball.stem(word))"
   ]
  },
  {
   "cell_type": "code",
   "execution_count": null,
   "id": "32b19c57",
   "metadata": {},
   "outputs": [],
   "source": [
    "##THE ABOVE LOOKS EXCATLY SAME AS THE PORTER STEMMER RIGHT NOW LETS SEE HOW AND WHERE \n",
    "##SNOOBALL STEMMER PERFORMS BETTER THAN PORTER STEMMER"
   ]
  },
  {
   "cell_type": "code",
   "execution_count": 21,
   "id": "72451309",
   "metadata": {},
   "outputs": [
    {
     "data": {
      "text/plain": [
       "('fairli', 'sportingli')"
      ]
     },
     "execution_count": 21,
     "metadata": {},
     "output_type": "execute_result"
    }
   ],
   "source": [
    "#PORTER STEMMER\n",
    "stemming.stem(\"fairly\"),stemming.stem(\"sportingly\")\n"
   ]
  },
  {
   "cell_type": "code",
   "execution_count": 22,
   "id": "fe012d36",
   "metadata": {},
   "outputs": [
    {
     "data": {
      "text/plain": [
       "('fair', 'sport')"
      ]
     },
     "execution_count": 22,
     "metadata": {},
     "output_type": "execute_result"
    }
   ],
   "source": [
    "#SNOWBALL STEMMER\n",
    "snowball.stem(\"fairly\"),snowball.stem(\"sportingly\")\n"
   ]
  },
  {
   "cell_type": "code",
   "execution_count": 23,
   "id": "67ddd495",
   "metadata": {},
   "outputs": [
    {
     "data": {
      "text/plain": [
       "'goe'"
      ]
     },
     "execution_count": 23,
     "metadata": {},
     "output_type": "execute_result"
    }
   ],
   "source": [
    "snowball.stem(\"goes\")"
   ]
  },
  {
   "cell_type": "code",
   "execution_count": 24,
   "id": "6cb7deff",
   "metadata": {},
   "outputs": [],
   "source": [
    "# IN THE ABOVE CODE IF WE SEE AGAIN THE GOES-->GOE DONESNOT MAKE SENSE \n",
    "# SO WITH THIS WE CONCULUDE TO SAY THAT STEMMING ALONE CANNNOT GIVE US DESIRED RESULTS AND \n",
    "# THATS WHERE COMES THE TERMS LEMAMTIZATION"
   ]
  },
  {
   "cell_type": "code",
   "execution_count": null,
   "id": "1ae1f39a",
   "metadata": {},
   "outputs": [],
   "source": []
  }
 ],
 "metadata": {
  "kernelspec": {
   "display_name": "Python 3",
   "language": "python",
   "name": "python3"
  },
  "language_info": {
   "codemirror_mode": {
    "name": "ipython",
    "version": 3
   },
   "file_extension": ".py",
   "mimetype": "text/x-python",
   "name": "python",
   "nbconvert_exporter": "python",
   "pygments_lexer": "ipython3",
   "version": "3.12.3"
  }
 },
 "nbformat": 4,
 "nbformat_minor": 5
}
